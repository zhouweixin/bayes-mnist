{
 "cells": [
  {
   "cell_type": "code",
   "execution_count": 1,
   "metadata": {
    "collapsed": true
   },
   "outputs": [],
   "source": [
    "import scipy.io as scio\n",
    "import numpy as np\n",
    "from functools import reduce\n",
    "import operator"
   ]
  },
  {
   "cell_type": "markdown",
   "metadata": {},
   "source": [
    "# 读数据集函数"
   ]
  },
  {
   "cell_type": "code",
   "execution_count": 2,
   "metadata": {},
   "outputs": [],
   "source": [
    "\"\"\"\n",
    "xfile: x文件\n",
    "yfile: y文件\n",
    "rate: 训练集数量/测试集数量\n",
    "\"\"\"\n",
    "def readData(xfile, yfile, rate):\n",
    "    # 加载文件， 此处是dict\n",
    "    x = scio.loadmat(xfile)\n",
    "    y = scio.loadmat(yfile)\n",
    "    \n",
    "    x = x.get(\"mnist_train\")\n",
    "    y = y.get(\"mnist_train_labels\")\n",
    "    \n",
    "    # 二值化\n",
    "    x = np.where(x > 0, 1, 0)\n",
    "    \n",
    "    num = x.shape[0]\n",
    "    index = int(num * (rate / (rate + 1)))\n",
    "    \n",
    "    x_train = x[0:index]\n",
    "    y_train = y[0:index]\n",
    "    x_test = x[index:num]\n",
    "    y_test = y[index:num]\n",
    "\n",
    "    return x_train, y_train, x_test, y_test"
   ]
  },
  {
   "cell_type": "markdown",
   "metadata": {},
   "source": [
    "# 读取训练集和测试集"
   ]
  },
  {
   "cell_type": "code",
   "execution_count": 3,
   "metadata": {},
   "outputs": [
    {
     "name": "stdout",
     "output_type": "stream",
     "text": [
      "x_train.shape = (50000, 784)\n",
      "y_train.shape = (50000, 1)\n",
      "x_test.shape = (10000, 784)\n",
      "y_test.shape = (10000, 1)\n"
     ]
    }
   ],
   "source": [
    "x_train, y_train, x_test, y_test = readData(\"dataset/mnist_train.mat\", \"dataset/mnist_train_labels.mat\", 5/1)\n",
    "print(\"x_train.shape = {}\".format(x_train.shape))\n",
    "print(\"y_train.shape = {}\".format(y_train.shape))\n",
    "print(\"x_test.shape = {}\".format(x_test.shape))\n",
    "print(\"y_test.shape = {}\".format(y_test.shape))"
   ]
  },
  {
   "cell_type": "markdown",
   "metadata": {},
   "source": [
    "# 计算流程p(y|x) = p(y)*p(x|y)\n",
    "1. 计算p(y)\n",
    "2. 计算p(x|y)\n",
    "3. 计算p(y|x)"
   ]
  },
  {
   "cell_type": "markdown",
   "metadata": {},
   "source": [
    "# 1.计算p(y)"
   ]
  },
  {
   "cell_type": "code",
   "execution_count": 4,
   "metadata": {},
   "outputs": [
    {
     "name": "stdout",
     "output_type": "stream",
     "text": [
      "py.shape = (10, 1)\n",
      "py       = [ 0.09864  0.11356  0.09936  0.10202  0.09718  0.09012  0.09902  0.1035\n",
      "  0.09684  0.09976]\n"
     ]
    }
   ],
   "source": [
    "# 按y把数据分成10组\n",
    "# 初始化px_group\n",
    "px_group = []\n",
    "for i in range(10):\n",
    "    px_group.append(i)\n",
    "    px_group[i] = []\n",
    "\n",
    "# px_group的第一维表示类别[0-9], 第二维表示相应的所有x样例\n",
    "for i, y in enumerate(y_train):\n",
    "    px_group[int(y)].append(x_train[i])\n",
    "\n",
    "py = []\n",
    "for i in range(10):\n",
    "    py.append(len(px_group[i]) / x_train.shape[0])\n",
    "\n",
    "py = np.array(py)\n",
    "py = py.reshape(-1, 1)\n",
    "print(\"py.shape = {}\".format(py.shape))\n",
    "print(\"py       = {}\".format(py.squeeze()))"
   ]
  },
  {
   "cell_type": "markdown",
   "metadata": {},
   "source": [
    "# 2.计算p(x|y)"
   ]
  },
  {
   "cell_type": "code",
   "execution_count": 5,
   "metadata": {},
   "outputs": [
    {
     "name": "stdout",
     "output_type": "stream",
     "text": [
      "pxy.shape = (10, 784)\n"
     ]
    }
   ],
   "source": [
    "pxy = []\n",
    "for i in range(10):\n",
    "    group = np.array(px_group[i])\n",
    "    # 按列求和\n",
    "    group = np.sum(group, axis=0) / len(px_group[i])\n",
    "    pxy.append(group)\n",
    "\n",
    "pxy = np.array(pxy)\n",
    "print(\"pxy.shape = {}\".format(pxy.shape))"
   ]
  },
  {
   "cell_type": "markdown",
   "metadata": {},
   "source": [
    "# 3.计算p(yi|x)"
   ]
  },
  {
   "cell_type": "markdown",
   "metadata": {},
   "source": [
    "## (1) 多项式朴素贝叶斯"
   ]
  },
  {
   "cell_type": "code",
   "execution_count": 6,
   "metadata": {},
   "outputs": [],
   "source": [
    "def predict_mul(x):    \n",
    "    result = []    \n",
    "    for i in range(10):\n",
    "        # 把0换成1\n",
    "        temp = x * pxy[i]\n",
    "        resulti = []\n",
    "        for j in np.where(temp == 0, 1, temp):\n",
    "            py_pxy = py[i][0] * reduce(operator.mul, j)\n",
    "            resulti.append(py_pxy)\n",
    "        result.append(resulti)\n",
    "    \n",
    "    result = np.argmax(result, axis=0)\n",
    "    return result    "
   ]
  },
  {
   "cell_type": "markdown",
   "metadata": {},
   "source": [
    "## (2) 伯努力朴素贝叶斯"
   ]
  },
  {
   "cell_type": "code",
   "execution_count": 7,
   "metadata": {
    "collapsed": true
   },
   "outputs": [],
   "source": [
    "def predict_ber(x):\n",
    "    \n",
    "    result = []\n",
    "    \n",
    "    for i in range(10):\n",
    "        # 把0换成1\n",
    "        temp = x * pxy[i]\n",
    "        resulti = []\n",
    "        for j in np.where(temp == 0, 1-pxy[i], temp):\n",
    "            py_pxy = py[i][0] * reduce(operator.mul, j)\n",
    "            resulti.append(py_pxy)\n",
    "        result.append(resulti)\n",
    "    \n",
    "    result = np.argmax(result, axis=0)\n",
    "    return result  "
   ]
  },
  {
   "cell_type": "code",
   "execution_count": 8,
   "metadata": {},
   "outputs": [],
   "source": [
    "# 多项式朴素贝叶斯\n",
    "result_mul = predict_mul(x_test)\n",
    "# 伯努力朴素贝叶斯\n",
    "result_ber = predict_ber(x_test)"
   ]
  },
  {
   "cell_type": "code",
   "execution_count": 9,
   "metadata": {},
   "outputs": [
    {
     "name": "stdout",
     "output_type": "stream",
     "text": [
      "多项式朴素贝叶斯 Acc_mul = 0.626\n",
      "伯努力朴素贝叶斯 Acc_ber = 0.8469\n"
     ]
    }
   ],
   "source": [
    "acc_mul = np.where(result_mul == np.squeeze(y_test), 1, 0)\n",
    "print(\"多项式朴素贝叶斯 Acc_mul = {}\".format(np.sum(acc_mul) / len(result_mul)))\n",
    "\n",
    "acc_ber = np.where(result_ber == np.squeeze(y_test), 1, 0)\n",
    "print(\"伯努力朴素贝叶斯 Acc_ber = {}\".format(np.sum(acc_ber) / len(result_ber)))"
   ]
  }
 ],
 "metadata": {
  "kernelspec": {
   "display_name": "Python 3",
   "language": "python",
   "name": "python3"
  },
  "language_info": {
   "codemirror_mode": {
    "name": "ipython",
    "version": 3
   },
   "file_extension": ".py",
   "mimetype": "text/x-python",
   "name": "python",
   "nbconvert_exporter": "python",
   "pygments_lexer": "ipython3",
   "version": "3.6.3"
  }
 },
 "nbformat": 4,
 "nbformat_minor": 2
}
