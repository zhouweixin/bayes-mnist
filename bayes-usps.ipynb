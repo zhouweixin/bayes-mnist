{
 "cells": [
  {
   "cell_type": "code",
   "execution_count": 1,
   "metadata": {},
   "outputs": [],
   "source": [
    "import scipy.io as scio\n",
    "import numpy as np\n",
    "from functools import reduce\n",
    "import operator"
   ]
  },
  {
   "cell_type": "markdown",
   "metadata": {},
   "source": [
    "# 读数据集函数"
   ]
  },
  {
   "cell_type": "code",
   "execution_count": 10,
   "metadata": {
    "collapsed": true
   },
   "outputs": [],
   "source": [
    "\"\"\"\n",
    "xfile: x文件\n",
    "yfile: y文件\n",
    "test_rate: 测试集比例\n",
    "\"\"\"\n",
    "def readData(xfile, yfile, test_rate):\n",
    "    # 加载文件， 此处是dict\n",
    "    x = scio.loadmat(xfile)\n",
    "    y = scio.loadmat(yfile)\n",
    "    \n",
    "    x = x.get(xfile[8:-4])\n",
    "    y = y.get(yfile[8:-4])\n",
    "    \n",
    "    # 变成从0-9\n",
    "    y = y - 1\n",
    "    \n",
    "    # 二值化\n",
    "    x = np.where(x > 0, 1, 0)\n",
    "    \n",
    "    num = x.shape[0]\n",
    "    index = int(num * (1-test_rate))\n",
    "    \n",
    "    x_train = x[0:index]\n",
    "    y_train = y[0:index]\n",
    "    x_test = x[index:num]\n",
    "    y_test = y[index:num]\n",
    "\n",
    "    return x_train, y_train, x_test, y_test"
   ]
  },
  {
   "cell_type": "markdown",
   "metadata": {},
   "source": [
    "# 读取训练集和测试集"
   ]
  },
  {
   "cell_type": "code",
   "execution_count": 11,
   "metadata": {},
   "outputs": [
    {
     "name": "stdout",
     "output_type": "stream",
     "text": [
      "x_train.shape = (4261, 256)\n",
      "y_train.shape = (4261, 1)\n",
      "x_test.shape = (388, 256)\n",
      "y_test.shape = (388, 1)\n"
     ]
    }
   ],
   "source": [
    "x_train, y_train, x_test, y_test = readData(\"dataset/usps_train.mat\", \"dataset/usps_train_labels.mat\", 1/12)\n",
    "print(\"x_train.shape = {}\".format(x_train.shape))\n",
    "print(\"y_train.shape = {}\".format(y_train.shape))\n",
    "print(\"x_test.shape = {}\".format(x_test.shape))\n",
    "print(\"y_test.shape = {}\".format(y_test.shape))"
   ]
  },
  {
   "cell_type": "markdown",
   "metadata": {},
   "source": [
    "# 计算流程p(y|x) = p(y)*p(x|y)\n",
    "1. 计算p(y)\n",
    "2. 计算p(x|y)\n",
    "3. 计算p(y|x)"
   ]
  },
  {
   "cell_type": "markdown",
   "metadata": {},
   "source": [
    "# 1.计算p(y)"
   ]
  },
  {
   "cell_type": "code",
   "execution_count": 4,
   "metadata": {},
   "outputs": [
    {
     "name": "stdout",
     "output_type": "stream",
     "text": [
      "py.shape = (10, 1)\n",
      "py       = [ 0.16897442  0.13353673  0.10114996  0.08777282  0.08777282  0.07674255\n",
      "  0.08847688  0.08425252  0.08167097  0.08965032]\n"
     ]
    }
   ],
   "source": [
    "# 按y把数据分成10组\n",
    "# 初始化px_group\n",
    "px_group = []\n",
    "for i in range(10):\n",
    "    px_group.append(i)\n",
    "    px_group[i] = []\n",
    "\n",
    "# px_group的第一维表示类别[0-9], 第二维表示相应的所有x样例\n",
    "for i, y in enumerate(y_train):\n",
    "    px_group[int(y)].append(x_train[i])\n",
    "\n",
    "py = []\n",
    "for i in range(10):\n",
    "    py.append(len(px_group[i]) / x_train.shape[0])\n",
    "\n",
    "py = np.array(py)\n",
    "py = py.reshape(-1, 1)\n",
    "print(\"py.shape = {}\".format(py.shape))\n",
    "print(\"py       = {}\".format(py.squeeze()))"
   ]
  },
  {
   "cell_type": "markdown",
   "metadata": {},
   "source": [
    "# 2.计算p(x|y)"
   ]
  },
  {
   "cell_type": "code",
   "execution_count": 5,
   "metadata": {},
   "outputs": [
    {
     "name": "stdout",
     "output_type": "stream",
     "text": [
      "pxy.shape = (10, 256)\n"
     ]
    }
   ],
   "source": [
    "pxy = []\n",
    "for i in range(10):\n",
    "    group = np.array(px_group[i])\n",
    "    # 按列求和\n",
    "    group = np.sum(group, axis=0) / len(px_group[i])\n",
    "    pxy.append(group)\n",
    "\n",
    "pxy = np.array(pxy)\n",
    "print(\"pxy.shape = {}\".format(pxy.shape))"
   ]
  },
  {
   "cell_type": "markdown",
   "metadata": {},
   "source": [
    "# 3.计算p(yi|x)"
   ]
  },
  {
   "cell_type": "markdown",
   "metadata": {},
   "source": [
    "## (1) 多项式朴素贝叶斯"
   ]
  },
  {
   "cell_type": "code",
   "execution_count": 6,
   "metadata": {
    "collapsed": true
   },
   "outputs": [],
   "source": [
    "def predict_mul(x):    \n",
    "    result = []    \n",
    "    for i in range(10):\n",
    "        # 把0换成1\n",
    "        temp = x * pxy[i]\n",
    "        resulti = []\n",
    "        for j in np.where(temp == 0, 1, temp):\n",
    "            py_pxy = py[i][0] * reduce(operator.mul, j)\n",
    "            resulti.append(py_pxy)\n",
    "        result.append(resulti)\n",
    "    \n",
    "    result = np.argmax(result, axis=0)\n",
    "    return result    "
   ]
  },
  {
   "cell_type": "markdown",
   "metadata": {},
   "source": [
    "## (2) 伯努力朴素贝叶斯"
   ]
  },
  {
   "cell_type": "code",
   "execution_count": 7,
   "metadata": {
    "collapsed": true
   },
   "outputs": [],
   "source": [
    "def predict_ber(x):    \n",
    "    result = []    \n",
    "    for i in range(10):\n",
    "        # 把0换成1\n",
    "        temp = x * pxy[i]\n",
    "        resulti = []\n",
    "        for j in np.where(temp == 0, 1-pxy[i], temp):\n",
    "            py_pxy = py[i][0] * reduce(operator.mul, j)\n",
    "            resulti.append(py_pxy)\n",
    "        result.append(resulti)\n",
    "    \n",
    "    result = np.argmax(result, axis=0)\n",
    "    return result  "
   ]
  },
  {
   "cell_type": "code",
   "execution_count": 8,
   "metadata": {
    "collapsed": true
   },
   "outputs": [],
   "source": [
    "# 多项式朴素贝叶斯\n",
    "train_result_mul = predict_mul(x_train)\n",
    "test_result_mul = predict_mul(x_test)\n",
    "# 伯努力朴素贝叶斯\n",
    "train_result_ber = predict_ber(x_train)\n",
    "test_result_ber = predict_ber(x_test)"
   ]
  },
  {
   "cell_type": "code",
   "execution_count": 9,
   "metadata": {},
   "outputs": [
    {
     "name": "stdout",
     "output_type": "stream",
     "text": [
      "训练集-多项式朴素贝叶斯 Acc_train_mul = 0.7535789720722835\n",
      "测试集-多项式朴素贝叶斯 Acc_test_mul = 0.7551546391752577\n",
      "\n",
      "训练集-伯努力朴素贝叶斯 Acc_train_ber = 0.8385355550340295\n",
      "测试集-伯努力朴素贝叶斯 Acc_test_ber = 0.8247422680412371\n"
     ]
    }
   ],
   "source": [
    "acc_train_mul = np.where(train_result_mul == np.squeeze(y_train), 1, 0)\n",
    "print(\"训练集-多项式朴素贝叶斯 Acc_train_mul = {}\".format(np.sum(acc_train_mul) / len(train_result_mul)))\n",
    "\n",
    "acc_test_mul = np.where(test_result_mul == np.squeeze(y_test), 1, 0)\n",
    "print(\"测试集-多项式朴素贝叶斯 Acc_test_mul = {}\".format(np.sum(acc_test_mul) / len(test_result_mul)))\n",
    "\n",
    "print()\n",
    "\n",
    "acc_train_mul = np.where(train_result_ber == np.squeeze(y_train), 1, 0)\n",
    "print(\"训练集-伯努力朴素贝叶斯 Acc_train_ber = {}\".format(np.sum(acc_train_mul) / len(train_result_ber)))\n",
    "\n",
    "acc_test_ber = np.where(test_result_ber == np.squeeze(y_test), 1, 0)\n",
    "print(\"测试集-伯努力朴素贝叶斯 Acc_test_ber = {}\".format(np.sum(acc_test_ber) / len(test_result_ber)))"
   ]
  },
  {
   "cell_type": "code",
   "execution_count": null,
   "metadata": {
    "collapsed": true
   },
   "outputs": [],
   "source": []
  }
 ],
 "metadata": {
  "kernelspec": {
   "display_name": "Python 3",
   "language": "python",
   "name": "python3"
  },
  "language_info": {
   "codemirror_mode": {
    "name": "ipython",
    "version": 3
   },
   "file_extension": ".py",
   "mimetype": "text/x-python",
   "name": "python",
   "nbconvert_exporter": "python",
   "pygments_lexer": "ipython3",
   "version": "3.6.3"
  }
 },
 "nbformat": 4,
 "nbformat_minor": 2
}
