{
 "cells": [
  {
   "cell_type": "code",
   "execution_count": 9,
   "metadata": {},
   "outputs": [],
   "source": [
    "import scipy.io as scio\n",
    "import numpy as np\n",
    "from functools import reduce\n",
    "import operator\n",
    "from sklearn.ensemble import RandomForestClassifier"
   ]
  },
  {
   "cell_type": "markdown",
   "metadata": {},
   "source": [
    "# 读数据集函数"
   ]
  },
  {
   "cell_type": "code",
   "execution_count": 12,
   "metadata": {
    "collapsed": true
   },
   "outputs": [],
   "source": [
    "\"\"\"\n",
    "xfile: x文件\n",
    "yfile: y文件\n",
    "test_rate: 测试集比例\n",
    "\"\"\"\n",
    "def readData(xfile, yfile, test_rate):\n",
    "    # 加载文件， 此处是dict\n",
    "    x = scio.loadmat(xfile)\n",
    "    y = scio.loadmat(yfile)\n",
    "    \n",
    "    x = x.get(xfile[8:-4])\n",
    "    y = y.get(yfile[8:-4])\n",
    "    \n",
    "    # 二值化\n",
    "    x = np.where(x > 0, 1, 0)\n",
    "    \n",
    "    num = x.shape[0]\n",
    "    index = int(num * (1-test_rate))\n",
    "    \n",
    "    x_train = x[0:index]\n",
    "    y_train = y[0:index]\n",
    "    x_test = x[index:num]\n",
    "    y_test = y[index:num]\n",
    "    \n",
    "    y_train = y_train.ravel()\n",
    "    y_test = y_test.ravel()\n",
    "\n",
    "    return x_train, y_train, x_test, y_test"
   ]
  },
  {
   "cell_type": "markdown",
   "metadata": {},
   "source": [
    "# 读取数据集"
   ]
  },
  {
   "cell_type": "code",
   "execution_count": 17,
   "metadata": {},
   "outputs": [
    {
     "name": "stdout",
     "output_type": "stream",
     "text": [
      "x_train.shape = (55000, 784)\n",
      "y_train.shape = (55000,)\n",
      "x_test.shape = (5000, 784)\n",
      "y_test.shape = (5000,)\n"
     ]
    }
   ],
   "source": [
    "x_train, y_train, x_test, y_test = readData(\"dataset/mnist_train.mat\", \"dataset/mnist_train_labels.mat\", 1/12)\n",
    "print(\"x_train.shape = {}\".format(x_train.shape))\n",
    "print(\"y_train.shape = {}\".format(y_train.shape))\n",
    "print(\"x_test.shape = {}\".format(x_test.shape))\n",
    "print(\"y_test.shape = {}\".format(y_test.shape))"
   ]
  },
  {
   "cell_type": "markdown",
   "metadata": {},
   "source": [
    "# 开始训练"
   ]
  },
  {
   "cell_type": "code",
   "execution_count": 18,
   "metadata": {},
   "outputs": [],
   "source": [
    "rfc = RandomForestClassifier(n_estimators=500, oob_score=True, n_jobs=4)\n",
    "model = rfc.fit(x_train, y_train)"
   ]
  },
  {
   "cell_type": "code",
   "execution_count": 26,
   "metadata": {},
   "outputs": [
    {
     "name": "stdout",
     "output_type": "stream",
     "text": [
      "训练集-带外准确率 Acc_train_mnist= 0.9699090909090909\n",
      "测试集-准确率 Acc_test_mnist = 0.9774\n"
     ]
    }
   ],
   "source": [
    "print(\"训练集-带外准确率 Acc_train_mnist= {}\".format(rfc.oob_score_))\n",
    "print(\"测试集-准确率 Acc_test_mnist = {}\".format(rfc.score(x_test, y_test)))"
   ]
  },
  {
   "cell_type": "code",
   "execution_count": null,
   "metadata": {
    "collapsed": true
   },
   "outputs": [],
   "source": []
  }
 ],
 "metadata": {
  "kernelspec": {
   "display_name": "Python 3",
   "language": "python",
   "name": "python3"
  },
  "language_info": {
   "codemirror_mode": {
    "name": "ipython",
    "version": 3
   },
   "file_extension": ".py",
   "mimetype": "text/x-python",
   "name": "python",
   "nbconvert_exporter": "python",
   "pygments_lexer": "ipython3",
   "version": "3.6.3"
  }
 },
 "nbformat": 4,
 "nbformat_minor": 2
}
